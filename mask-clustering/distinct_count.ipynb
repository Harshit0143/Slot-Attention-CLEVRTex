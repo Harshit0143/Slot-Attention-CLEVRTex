{
 "cells": [
  {
   "cell_type": "code",
   "execution_count": 1,
   "id": "58f03b55",
   "metadata": {
    "execution": {
     "iopub.execute_input": "2024-04-21T05:20:21.738797Z",
     "iopub.status.busy": "2024-04-21T05:20:21.737749Z",
     "iopub.status.idle": "2024-04-21T05:20:29.588385Z",
     "shell.execute_reply": "2024-04-21T05:20:29.587300Z"
    },
    "papermill": {
     "duration": 7.858444,
     "end_time": "2024-04-21T05:20:29.590871",
     "exception": false,
     "start_time": "2024-04-21T05:20:21.732427",
     "status": "completed"
    },
    "tags": []
   },
   "outputs": [
    {
     "name": "stdout",
     "output_type": "stream",
     "text": [
      "Let's Go!\n",
      "torch version: 2.1.2+cpu\n"
     ]
    }
   ],
   "source": [
    "print(\"Let's Go!\" )\n",
    "from PIL import Image\n",
    "import torch\n",
    "from torchvision import transforms\n",
    "import os\n",
    "import shutil\n",
    "import numpy as np\n",
    "from torch.optim import Adam\n",
    "from torch.nn import ReLU\n",
    "from torch.nn import LayerNorm\n",
    "import torch.nn.functional as F\n",
    "from torch.nn import BatchNorm2d\n",
    "from torch.nn import Parameter\n",
    "from torch.nn import Linear\n",
    "from torch.nn import DataParallel\n",
    "from torch.nn import Sequential\n",
    "from torch.nn import ConvTranspose2d\n",
    "from torch.nn import GRU\n",
    "from torch.nn import Module\n",
    "from torch.nn import Flatten\n",
    "from torch.nn.init import normal_\n",
    "from torch.utils.data import Dataset, DataLoader\n",
    "from torch.nn.functional import softmax\n",
    "from torch.nn import Conv2d\n",
    "from torch.nn import Conv1d\n",
    "from torch.nn import MSELoss\n",
    "import matplotlib.pyplot as plt\n",
    "import h5py\n",
    "import sys\n",
    "from tqdm import tqdm\n",
    "from collections import OrderedDict\n",
    "from torchvision.transforms import InterpolationMode\n",
    "from sklearn.metrics import adjusted_rand_score\n",
    "\n",
    "torch.manual_seed(0)\n",
    "np.random.seed(0)\n",
    "\n",
    "print(\"torch version:\" , torch.__version__)"
   ]
  },
  {
   "cell_type": "code",
   "execution_count": 2,
   "id": "eb488a32",
   "metadata": {
    "execution": {
     "iopub.execute_input": "2024-04-21T05:20:29.598940Z",
     "iopub.status.busy": "2024-04-21T05:20:29.598389Z",
     "iopub.status.idle": "2024-04-21T05:20:32.737053Z",
     "shell.execute_reply": "2024-04-21T05:20:32.735529Z"
    },
    "papermill": {
     "duration": 3.145399,
     "end_time": "2024-04-21T05:20:32.739734",
     "exception": false,
     "start_time": "2024-04-21T05:20:29.594335",
     "status": "completed"
    },
    "tags": []
   },
   "outputs": [
    {
     "name": "stdout",
     "output_type": "stream",
     "text": [
      "Loaded data!\n",
      "image shape: (128, 128, 3)\n"
     ]
    }
   ],
   "source": [
    "def show_image(idx):\n",
    "    plt.imshow(true_masks[idx])\n",
    "    plt.axis('off') \n",
    "    plt.show()\n",
    "h5py_file = '/kaggle/input/true-val-masks-int/val_masks_exact.h5'\n",
    "true_masks = h5py.File(h5py_file, 'r')['masks'][:]\n",
    "print(\"Loaded data!\")\n",
    "print(\"image shape:\" , true_masks[0].shape)"
   ]
  },
  {
   "cell_type": "code",
   "execution_count": 3,
   "id": "065adfcc",
   "metadata": {
    "execution": {
     "iopub.execute_input": "2024-04-21T05:20:32.747744Z",
     "iopub.status.busy": "2024-04-21T05:20:32.747350Z",
     "iopub.status.idle": "2024-04-21T05:20:33.014773Z",
     "shell.execute_reply": "2024-04-21T05:20:33.013062Z"
    },
    "papermill": {
     "duration": 0.276548,
     "end_time": "2024-04-21T05:20:33.019501",
     "exception": false,
     "start_time": "2024-04-21T05:20:32.742953",
     "status": "completed"
    },
    "tags": []
   },
   "outputs": [
    {
     "data": {
      "image/png": "[encoded data removed]",
      "text/plain": [
       "<Figure size 640x480 with 1 Axes>"
      ]
     },
     "metadata": {},
     "output_type": "display_data"
    },
    {
     "data": {
      "image/png": "[encoded data removed]",
      "text/plain": [
       "<Figure size 640x480 with 1 Axes>"
      ]
     },
     "metadata": {},
     "output_type": "display_data"
    }
   ],
   "source": [
    "show_image(0)\n",
    "show_image(9999)"
   ]
  },
  {
   "cell_type": "code",
   "execution_count": 4,
   "id": "9872ce5f",
   "metadata": {
    "execution": {
     "iopub.execute_input": "2024-04-21T05:20:33.038924Z",
     "iopub.status.busy": "2024-04-21T05:20:33.038086Z",
     "iopub.status.idle": "2024-04-21T05:26:41.716977Z",
     "shell.execute_reply": "2024-04-21T05:26:41.715738Z"
    },
    "papermill": {
     "duration": 368.694944,
     "end_time": "2024-04-21T05:26:41.722579",
     "exception": false,
     "start_time": "2024-04-21T05:20:33.027635",
     "status": "completed"
    },
    "tags": []
   },
   "outputs": [
    {
     "name": "stdout",
     "output_type": "stream",
     "text": [
      "# of distinct count of objects: 10\n",
      "{2, 3, 4, 5, 6, 7, 8, 9, 10, 11}\n"
     ]
    }
   ],
   "source": [
    "dist_freq = set()\n",
    "for idx in range(10000):\n",
    "    image = true_masks[idx]\n",
    "    pixels = image.reshape(-1, 3)\n",
    "#     print(\"# of pixels:\" , len(pixels))\n",
    "\n",
    "    freq = set()\n",
    "    for i in range(len(pixels)):\n",
    "        arr = tuple(pixels[i])\n",
    "        if arr not in freq:\n",
    "            freq.add(arr)\n",
    "\n",
    "    dist_freq.add(len(freq))\n",
    "\n",
    "\n",
    "print(\"# of distinct count of objects:\" , len(dist_freq))\n",
    "print(dist_freq)"
   ]
  },
  {
   "cell_type": "markdown",
   "id": "3653c136",
   "metadata": {
    "papermill": {
     "duration": 0.003346,
     "end_time": "2024-04-21T05:26:41.729662",
     "exception": false,
     "start_time": "2024-04-21T05:26:41.726316",
     "status": "completed"
    },
    "tags": []
   },
   "source": []
  }
 ],
 "metadata": {
  "kaggle": {
   "accelerator": "none",
   "dataSources": [
    {
     "datasetId": 4843617,
     "sourceId": 8181166,
     "sourceType": "datasetVersion"
    }
   ],
   "dockerImageVersionId": 30699,
   "isGpuEnabled": false,
   "isInternetEnabled": false,
   "language": "python",
   "sourceType": "notebook"
  },
  "kernelspec": {
   "display_name": "Python 3",
   "language": "python",
   "name": "python3"
  },
  "language_info": {
   "codemirror_mode": {
    "name": "ipython",
    "version": 3
   },
   "file_extension": ".py",
   "mimetype": "text/x-python",
   "name": "python",
   "nbconvert_exporter": "python",
   "pygments_lexer": "ipython3",
   "version": "3.10.13"
  },
  "papermill": {
   "default_parameters": {},
   "duration": 384.173716,
   "end_time": "2024-04-21T05:26:42.956158",
   "environment_variables": {},
   "exception": null,
   "input_path": "__notebook__.ipynb",
   "output_path": "__notebook__.ipynb",
   "parameters": {},
   "start_time": "2024-04-21T05:20:18.782442",
   "version": "2.5.0"
  }
 },
 "nbformat": 4,
 "nbformat_minor": 5
}
